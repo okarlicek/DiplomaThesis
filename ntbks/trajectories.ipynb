{
 "cells": [
  {
   "cell_type": "code",
   "execution_count": 1,
   "id": "70b05479-0635-47f3-a26c-814c2f1bdd3e",
   "metadata": {},
   "outputs": [
    {
     "name": "stderr",
     "output_type": "stream",
     "text": [
      "\u001b[32m\u001b[1m  Activating\u001b[22m\u001b[39m project at `C:\\Users\\okarl\\Desktop\\diploma-thesis\\ntbks`\n"
     ]
    }
   ],
   "source": [
    "using Pkg\n",
    "Pkg.activate(\".\")"
   ]
  },
  {
   "cell_type": "code",
   "execution_count": 2,
   "id": "801bc7f7-9bf7-4df6-accc-7d5a1c866c58",
   "metadata": {},
   "outputs": [],
   "source": [
    "using Plots\n",
    "using StatsPlots\n",
    "using JLD\n",
    "using Statistics\n",
    "using DataFrames\n",
    "using ColorSchemes\n",
    "using LaTeXStrings"
   ]
  },
  {
   "cell_type": "code",
   "execution_count": 3,
   "id": "8477636b-3816-4ed7-bbe7-d64a5162a585",
   "metadata": {},
   "outputs": [],
   "source": [
    "palette = cgrad(:Set1_4, 4, categorical=true).colors;"
   ]
  },
  {
   "cell_type": "code",
   "execution_count": 4,
   "id": "d2d4714f-5373-448f-98a7-939896b9834c",
   "metadata": {},
   "outputs": [
    {
     "data": {
      "text/plain": [
       "\"C:\\\\Users\\\\okarl\\\\Desktop\\\\diploma-thesis\\\\ntbks\""
      ]
     },
     "execution_count": 4,
     "metadata": {},
     "output_type": "execute_result"
    }
   ],
   "source": [
    "pwd()"
   ]
  },
  {
   "cell_type": "code",
   "execution_count": 5,
   "id": "ce0dfd84-4208-4fd2-aed3-6f46aca46829",
   "metadata": {},
   "outputs": [
    {
     "data": {
      "text/plain": [
       "Dict{String, Any} with 5 entries:\n",
       "  \"lls_1\"   => [9707.26, 9734.33, 9684.51, 9758.4, 9736.42, 9767.25, 9737.13, 9…\n",
       "  \"lls_10\"  => [7305.2, 7261.02, 7314.26, 7276.45, 7299.44, 7302.97, 7313.49, 7…\n",
       "  \"lls_20\"  => [6052.11, 6077.46, 6068.78, 6067.94, 6086.72, 6071.56, 6087.09, …\n",
       "  \"alpha_0\" => [-1.0, -0.997998, -0.995996, -0.993994, -0.991992, -0.98999, -0.…\n",
       "  \"lls_5\"   => [8625.55, 8608.93, 8624.92, 8539.09, 8594.88, 8575.36, 8607.16, …"
      ]
     },
     "execution_count": 5,
     "metadata": {},
     "output_type": "execute_result"
    }
   ],
   "source": [
    "ar1 = load(\"../results/traj_ar2.jld\")\n",
    "ar2 = load(\"../results/traj_ar22.jld\")\n",
    "fw  = load(\"../results/traj_fw2012.jld\")"
   ]
  },
  {
   "cell_type": "code",
   "execution_count": 6,
   "id": "3bb2d147-4996-4d92-9f65-2a179e56f7a1",
   "metadata": {},
   "outputs": [
    {
     "data": {
      "text/plain": [
       "\"C:\\\\Users\\\\okarl\\\\Desktop\\\\diploma-thesis\\\\plots\\\\ar2_trajectory2.png\""
      ]
     },
     "execution_count": 6,
     "metadata": {},
     "output_type": "execute_result"
    }
   ],
   "source": [
    "p_ar1 = plot(ar1[\"alpha\"], ar1[\"lls_1\"], label=\"trajectory 1\", color=palette[1], linewidth=1.5, legendfontsize=12, xlabel=L\"\\phi_1\", ylabel=\"loglikelihood\")\n",
    "plot!(p_ar1, ar1[\"alpha\"], ar1[\"lls_5\"], label=\"trajectory 5\", color=palette[2], linewidth=1.5)\n",
    "plot!(p_ar1, ar1[\"alpha\"], ar1[\"lls_10\"], label=\"trajectory 10\", color=palette[3], linewidth=1.5)\n",
    "plot!(p_ar1, ar1[\"alpha\"], ar1[\"lls_20\"], label=\"trajectory 20\", color=palette[4], linewidth=1.5)\n",
    "plot!(p_ar1, [0.2], seriestype=\"vline\", label=\"True\", color=\"black\", linewidth=2.5)\n",
    "\n",
    "savefig(p_ar1, \"../plots/ar2_trajectory2.png\")"
   ]
  },
  {
   "cell_type": "code",
   "execution_count": 7,
   "id": "82af2ebf-2995-4d0a-8043-35556a81ca44",
   "metadata": {},
   "outputs": [
    {
     "data": {
      "text/plain": [
       "\"C:\\\\Users\\\\okarl\\\\Desktop\\\\diploma-thesis\\\\plots\\\\ar2_trajectory.png\""
      ]
     },
     "execution_count": 7,
     "metadata": {},
     "output_type": "execute_result"
    }
   ],
   "source": [
    "p_ar2 = plot(ar2[\"alpha\"][1:140], ar2[\"lls_1\"][1:140], label=\"trajectory 1\", color=palette[1], linewidth=1.5, legendfontsize=12, xlabel=L\"\\phi_2\", ylabel=\"loglikelihood\")\n",
    "plot!(p_ar2, ar2[\"alpha\"], ar2[\"lls_5\"], label=\"trajectory 5\", color=palette[2], linewidth=1.5)\n",
    "plot!(p_ar2, ar2[\"alpha\"], ar2[\"lls_10\"], label=\"trajectory 10\", color=palette[3], linewidth=1.5)\n",
    "plot!(p_ar2, ar2[\"alpha\"], ar2[\"lls_20\"], label=\"trajectory 20\", color=palette[4], linewidth=1.5)\n",
    "plot!(p_ar2, [-0.9], seriestype=\"vline\", label=\"True\", color=\"black\", linewidth=2.5)\n",
    "\n",
    "savefig(p_ar2, \"../plots/ar2_trajectory.png\")"
   ]
  },
  {
   "cell_type": "code",
   "execution_count": 8,
   "id": "48fda074-af1f-454c-b486-c47936fdfb94",
   "metadata": {},
   "outputs": [
    {
     "data": {
      "text/plain": [
       "\"C:\\\\Users\\\\okarl\\\\Desktop\\\\diploma-thesis\\\\plots\\\\fw2012_trajectory.png\""
      ]
     },
     "execution_count": 8,
     "metadata": {},
     "output_type": "execute_result"
    }
   ],
   "source": [
    "p_fw = plot(fw[\"alpha_0\"], fw[\"lls_1\"], label=\"trajectory 1\", color=palette[1], linewidth=1.5, xlabel=L\"\\alpha_0\", ylabel=\"loglikelihood\")\n",
    "plot!(p_fw, fw[\"alpha_0\"], fw[\"lls_5\"], label=\"trajectory 5\", color=palette[2], linewidth=1.5)\n",
    "plot!(p_fw, fw[\"alpha_0\"], fw[\"lls_10\"], label=\"trajectory 10\", color=palette[3], linewidth=1.5)\n",
    "plot!(p_fw, fw[\"alpha_0\"], fw[\"lls_20\"], label=\"trajectory 20\", color=palette[4], linewidth=1.5)\n",
    "plot!(p_fw, [-0.327], seriestype=\"vline\", label=\"True\", color=\"black\", linewidth=2.5)\n",
    "\n",
    "savefig(p_fw, \"../plots/fw2012_trajectory.png\")"
   ]
  },
  {
   "cell_type": "code",
   "execution_count": null,
   "id": "e789a9b5-68dd-4c38-9041-160c28fe4a2f",
   "metadata": {},
   "outputs": [],
   "source": []
  }
 ],
 "metadata": {
  "kernelspec": {
   "display_name": "Julia 1.10.0-beta2",
   "language": "julia",
   "name": "julia-1.10"
  },
  "language_info": {
   "file_extension": ".jl",
   "mimetype": "application/julia",
   "name": "julia",
   "version": "1.10.0"
  }
 },
 "nbformat": 4,
 "nbformat_minor": 5
}
