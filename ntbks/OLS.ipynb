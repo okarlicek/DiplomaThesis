{
 "cells": [
  {
   "cell_type": "code",
   "execution_count": 1,
   "id": "e9caede1-4608-433d-8181-bcd973477b53",
   "metadata": {},
   "outputs": [
    {
     "name": "stderr",
     "output_type": "stream",
     "text": [
      "\u001b[32m\u001b[1m  Activating\u001b[22m\u001b[39m project at `C:\\Users\\okarl\\Desktop\\diploma-thesis\\ntbks`\n"
     ]
    }
   ],
   "source": [
    "using Pkg\n",
    "Pkg.activate(\".\")"
   ]
  },
  {
   "cell_type": "code",
   "execution_count": 2,
   "id": "54070191-ced2-4cb2-9047-211ebaaf781d",
   "metadata": {},
   "outputs": [],
   "source": [
    "using JLD\n",
    "using Statistics\n",
    "using DataFrames\n",
    "using StatsModels\n",
    "using GLM\n",
    "using ARCHModels\n",
    "using Random\n",
    "\n",
    "include(\"../src/utils/fcn_data.jl\");"
   ]
  },
  {
   "cell_type": "code",
   "execution_count": 3,
   "id": "0efc9c71-6758-4fdb-ad25-a544dd2849a9",
   "metadata": {},
   "outputs": [],
   "source": [
    "function RMSE(true_params, parameters, stds)\n",
    "    true_normalizer = deepcopy(true_params)\n",
    "    true_normalizer[true_params .== 0] .= 1\n",
    "\n",
    "    true_normalizer = reshape(true_normalizer, ((1, size(true_normalizer)[1])))\n",
    "    return mean(sqrt.(((parameters .- true_normalizer).^2 + stds.^2) ./ abs.(true_normalizer)))\n",
    "end;"
   ]
  },
  {
   "cell_type": "markdown",
   "id": "de86ce48-a1d2-4b0d-970d-c627dd11262e",
   "metadata": {},
   "source": [
    "# AR2"
   ]
  },
  {
   "cell_type": "code",
   "execution_count": 4,
   "id": "a254b96e-931c-4740-b41b-a596af9f41ed",
   "metadata": {},
   "outputs": [],
   "source": [
    "mod_set_ar = Dict(\"model\" => \"AR2\", # model name\n",
    "               \"obs\" => 3000, # number of observations [3000]\n",
    "               \"burn\" => 200, # burn-in period length [200]\n",
    "               \"cali\" => [0.2, -0.9], # model calibration; alpha_1, alpha_2\n",
    "               \"cons\" => [(-1., 1.), (-1., 1.)], # search constraints\n",
    "               \"fixed_params\" => [sqrt(0.1)]) # sigma\n",
    "\n",
    "# full setup dictionary\n",
    "setup_ar = Dict(\"mod\" => mod_set_ar) # model setup\n",
    "\n",
    "TRUE_AR2 = [0.2, -0.9]\n",
    "\n",
    "estimates_ar = zeros(100, 2)\n",
    "stds_ar = zeros(100, 2)\n",
    "confints_ar = zeros(100, 4);"
   ]
  },
  {
   "cell_type": "code",
   "execution_count": 5,
   "id": "526b85ba-2f5e-4158-94ab-1da993d3ce10",
   "metadata": {},
   "outputs": [],
   "source": [
    "for i in 1:100\n",
    "    seed = i\n",
    "    Random.seed!(seed)\n",
    "    \n",
    "    data = generate_series(setup_ar, setup_ar[\"mod\"][\"obs\"], setup_ar[\"mod\"][\"burn\"], setup_ar[\"mod\"][\"cali\"]);\n",
    "    \n",
    "    dataset = DataFrame(y=data, y_lag1=[missing; data[1:end-1]], y_lag2=[missing; missing; data[1:end-2]])\n",
    "    dataset = dropmissing(dataset)\n",
    "    \n",
    "    model = lm(@formula(y ~ -1 + y_lag1 + y_lag2), dataset)  # without intercept\n",
    "    \n",
    "    estimates_ar[i, :] = coef(model)\n",
    "    stds_ar[i, :] = stderror(model)\n",
    "    confints_ar[i, 1:2] = confint(model, 0.95)[1, :]\n",
    "    confints_ar[i, 3:4] = confint(model, 0.95)[2, :]\n",
    "end"
   ]
  },
  {
   "cell_type": "code",
   "execution_count": 6,
   "id": "ad30a13f-6b5b-4551-bb5a-5e749d586419",
   "metadata": {},
   "outputs": [
    {
     "data": {
      "text/plain": [
       "0.013342617366157968"
      ]
     },
     "execution_count": 6,
     "metadata": {},
     "output_type": "execute_result"
    }
   ],
   "source": [
    "RMSE(TRUE_AR2, mean(estimates_ar, dims=1), std(estimates_ar, dims=1))"
   ]
  },
  {
   "cell_type": "code",
   "execution_count": 7,
   "id": "2a0f3f02-bfcf-4428-a262-537c4cd872ac",
   "metadata": {},
   "outputs": [
    {
     "data": {
      "text/plain": [
       "4-element Vector{Float64}:\n",
       "  0.1837\n",
       "  0.2151\n",
       " -0.9144\n",
       " -0.8831"
      ]
     },
     "execution_count": 7,
     "metadata": {},
     "output_type": "execute_result"
    }
   ],
   "source": [
    "round.(mean(confints_ar, dims=1)[1, :], digits=4)"
   ]
  },
  {
   "cell_type": "code",
   "execution_count": 8,
   "id": "4b0bacf9-537c-4458-8692-58b8d5f59817",
   "metadata": {},
   "outputs": [
    {
     "data": {
      "text/plain": [
       "2-element Vector{Float64}:\n",
       "  0.1994\n",
       " -0.8987"
      ]
     },
     "execution_count": 8,
     "metadata": {},
     "output_type": "execute_result"
    }
   ],
   "source": [
    "round.(mean(estimates_ar, dims=1)[1, :], digits=4)"
   ]
  },
  {
   "cell_type": "code",
   "execution_count": 9,
   "id": "b9fc0814-9f4e-481a-b88b-c8fde98340e5",
   "metadata": {},
   "outputs": [],
   "source": [
    "jldopen(\"../results/ols_ar2.jld\", \"w\") do file\n",
    "    # Save arrays into the file\n",
    "    file[\"estimates\"] = estimates_ar\n",
    "    file[\"stds\"] = stds_ar\n",
    "    file[\"confints\"] = confints_ar\n",
    "end;"
   ]
  },
  {
   "cell_type": "markdown",
   "id": "a08c0301-b98e-4f59-afd6-2f760c6fb288",
   "metadata": {},
   "source": [
    "# ARMA(1,1)-GARCH(1,1)"
   ]
  },
  {
   "cell_type": "code",
   "execution_count": 10,
   "id": "0bd905f2-02ae-4665-b08a-8018bc1d6b75",
   "metadata": {},
   "outputs": [],
   "source": [
    "mod_set_garch = Dict(\"model\" => \"ARMAGARCH\", # model name\n",
    "               \"obs\" => 3000, # number of observations [3000]\n",
    "               \"burn\" => 200, # burn-in period length [200]\n",
    "               \"cali\" => [0.0, 0.7, 0.1, 0.1, 0.3, 0.001], # model calibration; mu, a, b, alpha, beta, omega\n",
    "               \"cons\" => [(-1., 1.), (-1., 1.), (-1., 1.), (0., 1.), (0., 1.), (0., 1.)], # search constraints\n",
    "               \"fixed_params\" => Float64[])\n",
    "\n",
    "# full setup dictionary\n",
    "setup_garch = Dict(\"mod\" => mod_set_garch) # model setup\n",
    "\n",
    "TRUE_GARCH = [0.0, 0.7, 0.1, 0.1, 0.3, 0.001] #  mu, a, b, alpha, beta, omega\n",
    "\n",
    "estimates_garch = zeros(100, 6)\n",
    "stds_garch = zeros(100, 6)\n",
    "confints_garch = zeros(100, 12);"
   ]
  },
  {
   "cell_type": "code",
   "execution_count": 11,
   "id": "31b1cc90-3f01-40ad-8e59-79fefd1e3d5f",
   "metadata": {},
   "outputs": [],
   "source": [
    "for i in 1:100\n",
    "    seed = i\n",
    "    Random.seed!(seed)\n",
    "    \n",
    "    data = generate_series(setup_garch, setup_garch[\"mod\"][\"obs\"], setup_garch[\"mod\"][\"burn\"], setup_garch[\"mod\"][\"cali\"]);\n",
    "    \n",
    "    model = fit(GARCH{1, 1}, data; meanspec=ARMA{1,1})\n",
    "\n",
    "    cs = coef(model)\n",
    "    ses = stderror(model)\n",
    "    cis = confint(model, 0.95)\n",
    "    \n",
    "    estimates_garch[i, 1], stds_garch[i, 1], confints_garch[i, 1:2] = cs[4], ses[4], cis[4, :]  # nu\n",
    "    estimates_garch[i, 2], stds_garch[i, 2], confints_garch[i, 3:4] = cs[5], ses[5], cis[5, :]  # a_1\n",
    "    estimates_garch[i, 3], stds_garch[i, 3], confints_garch[i, 5:6] = cs[6], ses[6], cis[6, :]  # b_1\n",
    "    estimates_garch[i, 4], stds_garch[i, 4], confints_garch[i, 7:8] = cs[3], ses[3], cis[3, :]  # alpha_1\n",
    "    estimates_garch[i, 5], stds_garch[i, 5], confints_garch[i, 9:10] = cs[2], ses[2], cis[2, :]  # beta_1\n",
    "    estimates_garch[i, 6], stds_garch[i, 6], confints_garch[i, 11:12] = cs[1], ses[1], cis[1, :]  # omega\n",
    "end"
   ]
  },
  {
   "cell_type": "code",
   "execution_count": 12,
   "id": "13370a2c-5f0e-422d-a54e-101c32e8bf85",
   "metadata": {},
   "outputs": [
    {
     "data": {
      "text/plain": [
       "0.25821937292150965"
      ]
     },
     "execution_count": 12,
     "metadata": {},
     "output_type": "execute_result"
    }
   ],
   "source": [
    "RMSE(TRUE_GARCH, mean(estimates_garch, dims=1), std(estimates_garch, dims=1))"
   ]
  },
  {
   "cell_type": "code",
   "execution_count": 13,
   "id": "b8be37e9-6d35-4b53-826a-c6d0b92516ef",
   "metadata": {},
   "outputs": [
    {
     "data": {
      "text/plain": [
       "12-element Vector{Float64}:\n",
       " -0.0015\n",
       "  0.0016\n",
       "  0.665\n",
       "  0.7339\n",
       "  0.0525\n",
       "  0.1515\n",
       "  0.0533\n",
       "  0.1486\n",
       " -0.1135\n",
       "  0.6425\n",
       "  0.0005\n",
       "  0.0017"
      ]
     },
     "execution_count": 13,
     "metadata": {},
     "output_type": "execute_result"
    }
   ],
   "source": [
    "round.(mean(confints_garch, dims=1)[1, :], digits=4)"
   ]
  },
  {
   "cell_type": "code",
   "execution_count": 14,
   "id": "ed5bc4a9-9df5-4625-898e-aacb701df732",
   "metadata": {},
   "outputs": [
    {
     "data": {
      "text/plain": [
       "6-element Vector{Float64}:\n",
       " 0.0001\n",
       " 0.6994\n",
       " 0.102\n",
       " 0.1009\n",
       " 0.2645\n",
       " 0.0011"
      ]
     },
     "execution_count": 14,
     "metadata": {},
     "output_type": "execute_result"
    }
   ],
   "source": [
    "round.(mean(estimates_garch, dims=1)[1, :], digits=4)"
   ]
  },
  {
   "cell_type": "code",
   "execution_count": 15,
   "id": "d2750bf0-37a8-4e3c-a082-65adfb1c3038",
   "metadata": {},
   "outputs": [],
   "source": [
    "jldopen(\"../results/ols_armagarch.jld\", \"w\") do file\n",
    "    # Save arrays into the file\n",
    "    file[\"estimates\"] = estimates_garch\n",
    "    file[\"stds\"] = stds_garch\n",
    "    file[\"confints\"] = confints_garch\n",
    "end;"
   ]
  }
 ],
 "metadata": {
  "kernelspec": {
   "display_name": "Julia 1.10.0-beta2",
   "language": "julia",
   "name": "julia-1.10"
  },
  "language_info": {
   "file_extension": ".jl",
   "mimetype": "application/julia",
   "name": "julia",
   "version": "1.10.0"
  }
 },
 "nbformat": 4,
 "nbformat_minor": 5
}
